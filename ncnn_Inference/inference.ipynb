{
 "cells": [
  {
   "cell_type": "code",
   "execution_count": 77,
   "id": "7225804e-aa26-4432-b9f7-57405c1504f6",
   "metadata": {},
   "outputs": [],
   "source": [
    "#!/usr/bin/env python3\n",
    "import os\n",
    "import cv2\n",
    "import time\n",
    "import torch\n",
    "import numpy as np\n",
    "# from ncnn_vulkan import ncnn\n",
    "import ncnn"
   ]
  },
  {
   "cell_type": "code",
   "execution_count": 78,
   "id": "e3754f82-0d12-4f23-bb77-5cbfd03149e0",
   "metadata": {},
   "outputs": [],
   "source": [
    "def digest_input(img_path):\n",
    "    '''\n",
    "    # input digestion\n",
    "    Ex: \n",
    "    img_path = 'input.jpg'\n",
    "    normalized_input_image = digest_input(img_path)\n",
    "    '''    \n",
    "    image = cv2.imread(img_path)\n",
    "    # Convert BGR to RGB \n",
    "    image = cv2.cvtColor(image, cv2.COLOR_BGR2RGB)  # (1088, 1920, 3)\n",
    "    ## Preprocess \n",
    "    # Normalize in range (0;1)\n",
    "    image = np.array(image).astype(np.float32) / 255.0  # Normalize the image\n",
    "    # # Resize  \n",
    "    # original_height, original_width = image.shape[:2]\n",
    "    # padded_image, pad_h, pad_w = pad_image(image)\n",
    "    ## Feed into network\n",
    "    # Convert to CHW format\n",
    "    input_image = np.transpose(image, (2, 0, 1)) # (1088, 1920, 3) --> (3,1088,1920)\n",
    "    # Expand dimensions for the network\n",
    "    normalized_input_image = np.expand_dims(input_image, 0)# --> (1,3,1088,1920)\n",
    "    return normalized_input_image"
   ]
  },
  {
   "cell_type": "code",
   "execution_count": 79,
   "id": "a8ccead9-52f4-4355-839e-ba54477f3e0c",
   "metadata": {},
   "outputs": [],
   "source": [
    "img_path = 'images/input.jpg'\n",
    "normalized_input_image = digest_input(img_path)\n",
    "mat_in = cv2.Mat(normalized_input_image)"
   ]
  },
  {
   "cell_type": "code",
   "execution_count": 80,
   "id": "a44040cc-1de8-4a74-bea3-85045b90dabc",
   "metadata": {},
   "outputs": [
    {
     "ename": "AttributeError",
     "evalue": "module 'ncnn' has no attribute 'Net'",
     "output_type": "error",
     "traceback": [
      "\u001b[0;31m---------------------------------------------------------------------------\u001b[0m",
      "\u001b[0;31mAttributeError\u001b[0m                            Traceback (most recent call last)",
      "Cell \u001b[0;32mIn[80], line 2\u001b[0m\n\u001b[1;32m      1\u001b[0m \u001b[38;5;66;03m# Load the ncnn model\u001b[39;00m\n\u001b[0;32m----> 2\u001b[0m net \u001b[38;5;241m=\u001b[39m \u001b[43mncnn\u001b[49m\u001b[38;5;241;43m.\u001b[39;49m\u001b[43mNet\u001b[49m()\n\u001b[1;32m      3\u001b[0m net\u001b[38;5;241m.\u001b[39mload_param(\u001b[38;5;124m\"\u001b[39m\u001b[38;5;124myour_model.param\u001b[39m\u001b[38;5;124m\"\u001b[39m)\n\u001b[1;32m      4\u001b[0m net\u001b[38;5;241m.\u001b[39mload_model(\u001b[38;5;124m\"\u001b[39m\u001b[38;5;124myour_model.bin\u001b[39m\u001b[38;5;124m\"\u001b[39m)\n",
      "\u001b[0;31mAttributeError\u001b[0m: module 'ncnn' has no attribute 'Net'"
     ]
    }
   ],
   "source": [
    "# Load the ncnn model\n",
    "net = ncnn.Net()\n",
    "net.load_param(\"your_model.param\")\n",
    "net.load_model(\"your_model.bin\")"
   ]
  },
  {
   "cell_type": "code",
   "execution_count": 81,
   "id": "54260ecb-34da-487a-92d1-9588dd592385",
   "metadata": {},
   "outputs": [
    {
     "ename": "NameError",
     "evalue": "name 'net' is not defined",
     "output_type": "error",
     "traceback": [
      "\u001b[0;31m---------------------------------------------------------------------------\u001b[0m",
      "\u001b[0;31mNameError\u001b[0m                                 Traceback (most recent call last)",
      "Cell \u001b[0;32mIn[81], line 2\u001b[0m\n\u001b[1;32m      1\u001b[0m \u001b[38;5;66;03m# Run inference\u001b[39;00m\n\u001b[0;32m----> 2\u001b[0m extractor \u001b[38;5;241m=\u001b[39m \u001b[43mnet\u001b[49m\u001b[38;5;241m.\u001b[39mcreate_extractor()\n\u001b[1;32m      3\u001b[0m extractor\u001b[38;5;241m.\u001b[39minput(\u001b[38;5;124m\"\u001b[39m\u001b[38;5;124minput\u001b[39m\u001b[38;5;124m\"\u001b[39m, mat_in)  \u001b[38;5;66;03m# Input layer name is \"input\"\u001b[39;00m\n\u001b[1;32m      4\u001b[0m _, mat_out \u001b[38;5;241m=\u001b[39m extractor\u001b[38;5;241m.\u001b[39mextract(\u001b[38;5;124m\"\u001b[39m\u001b[38;5;124moutput\u001b[39m\u001b[38;5;124m\"\u001b[39m)  \u001b[38;5;66;03m# Output layer name is \"output\"\u001b[39;00m\n",
      "\u001b[0;31mNameError\u001b[0m: name 'net' is not defined"
     ]
    }
   ],
   "source": [
    "# Run inference\n",
    "extractor = net.create_extractor()\n",
    "extractor.input(\"input\", mat_in)  # Input layer name is \"input\"\n",
    "_, mat_out = extractor.extract(\"output\")  # Output layer name is \"output\"\n",
    "# Process output\n",
    "output_data = np.array(mat_out)\n",
    "print(output_data)\n",
    "# Release resources\n",
    "net.clear()"
   ]
  },
  {
   "cell_type": "code",
   "execution_count": null,
   "id": "81e86f02-f49e-4893-9e08-cc3a911557ad",
   "metadata": {},
   "outputs": [],
   "source": []
  }
 ],
 "metadata": {
  "kernelspec": {
   "display_name": "Python 3 (ipykernel)",
   "language": "python",
   "name": "python3"
  },
  "language_info": {
   "codemirror_mode": {
    "name": "ipython",
    "version": 3
   },
   "file_extension": ".py",
   "mimetype": "text/x-python",
   "name": "python",
   "nbconvert_exporter": "python",
   "pygments_lexer": "ipython3",
   "version": "3.12.4"
  }
 },
 "nbformat": 4,
 "nbformat_minor": 5
}
